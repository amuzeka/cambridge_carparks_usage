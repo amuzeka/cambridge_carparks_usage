{
 "cells": [
  {
   "cell_type": "markdown",
   "id": "d236688d",
   "metadata": {},
   "source": [
    "# Parking Usage in the City of Cambridge\n",
    "\n",
    "*The focus of this analysis will be the length of stay and type of user of a parking lot in the city of Cambridge. The available data starts on 01/04/2015 and goes until 31/12/2022.*\n",
    "\n",
    "*Source of the data: https://ckan.publishing.service.gov.uk/dataset/cambridge-city-car-park-usage-data-by-length-of-stay*\n",
    "\n",
    "### Parking lots in the scope of this analysis:\n",
    "\n",
    "- Grafton East (GE)\n",
    "    "
   ]
  },
  {
   "cell_type": "code",
   "execution_count": null,
   "id": "8ec06d03",
   "metadata": {},
   "outputs": [],
   "source": [
    "import pandas as pd\n",
    "import numpy as np\n",
    "import matplotlib.pyplot as plt\n",
    "import seaborn as sns\n",
    "from scipy.stats import pearsonr, chi2_contingency\n",
    "import datetime"
   ]
  },
  {
   "cell_type": "code",
   "execution_count": null,
   "id": "edbee927",
   "metadata": {},
   "outputs": [],
   "source": [
    "# To make the output look nicer\n",
    "np.set_printoptions(suppress=True, precision = 2)"
   ]
  },
  {
   "cell_type": "markdown",
   "id": "b844fd57",
   "metadata": {},
   "source": [
    "## 1 - Data Loading and Checking"
   ]
  },
  {
   "cell_type": "code",
   "execution_count": null,
   "id": "6e003791",
   "metadata": {},
   "outputs": [],
   "source": [
    "# Load the Grafton East (GE) parking dataset\n",
    "ge_data = pd.read_csv('data/grafton_east.csv')\n",
    "\n",
    "# Inspect the first 10 rows\n",
    "ge_data.head(10)"
   ]
  },
  {
   "cell_type": "markdown",
   "id": "46197f81",
   "metadata": {},
   "source": [
    "## 2 - Data Wrangling and Tidyng"
   ]
  },
  {
   "cell_type": "code",
   "execution_count": null,
   "id": "0356cbdb",
   "metadata": {},
   "outputs": [],
   "source": [
    "# In order to have a better understanting of the data\n",
    "ge_data.info()"
   ]
  },
  {
   "cell_type": "code",
   "execution_count": null,
   "id": "68a25726",
   "metadata": {},
   "outputs": [],
   "source": [
    "# In order to dentify the continuous and categorical columns in the data\n",
    "ge_data.nunique()"
   ]
  },
  {
   "cell_type": "markdown",
   "id": "548c12c8",
   "metadata": {},
   "source": [
    "#### Based on this preliminary analysis, we can make some assumptions about the data:\n",
    "\n",
    "- A lot of columns appear to have extra spaces before and after their names\n",
    "- The columns `Up to 1 hr`, `1 to 2 hrs`, `2 to 3 hrs`, `3 to 4 hrs`, `4 to 5 hrs`, `5 to 6 hrs`, `6 to <24 hours`, `24 hours +`, `Total Exc Sub` and `Subscribers` all look as int64 variables, but only the `Total Exc Sub` is reflected as one.\n",
    "\n",
    "- The column `Comments`, despite the int values should not be one. It's better to replace the values for a better fit. The columns also have other factors to be checked.\n",
    "\n",
    "- It's a good idea to convert the `Date`column into a `datetime` format, this way it will be easy to perform operations later\n",
    "\n",
    "- It is also a good idea to convert the `Day` of the week into a category variable, so we can organize the week starting on Monday and ending on Sunday."
   ]
  },
  {
   "cell_type": "code",
   "execution_count": null,
   "id": "c9d9921d",
   "metadata": {},
   "outputs": [],
   "source": [
    "# Set Day variable as categorical\n",
    "ge_data['Day'] = pd.Categorical(ge_data['Day'], \n",
    "                      categories=['Mon', 'Tue', 'Wed', 'Thu', 'Fri', 'Sat', 'Sun'],\n",
    "                      ordered=True)\n",
    "\n",
    "ge_data['Day'].dtypes"
   ]
  },
  {
   "cell_type": "code",
   "execution_count": null,
   "id": "95f2190d",
   "metadata": {},
   "outputs": [],
   "source": [
    "# Converting the dd/mm/yyyy into yyyy-mm-dd format\n",
    "ge_data['Date'] = pd.to_datetime(ge_data['Date'], dayfirst=True, format=\"%d/%m/%Y\")"
   ]
  },
  {
   "cell_type": "code",
   "execution_count": null,
   "id": "c679b9c6",
   "metadata": {},
   "outputs": [],
   "source": [
    "# Function to remove extra spaces from the entire data \n",
    "def whitespace_remover(df):\n",
    "    \n",
    "    # first to remove the extra spaces in all columns\n",
    "    ge_data.columns = ge_data.columns.str.strip()\n",
    "    \n",
    "    # iterating over the columns to remove spaces from values\n",
    "    for i in df.columns:\n",
    " \n",
    "        # checking datatype of each columns\n",
    "        if df[i].dtype == 'object':\n",
    " \n",
    "            # applying strip function\n",
    "            df[i] = df[i].str.strip()\n",
    "        \n",
    "        else:\n",
    "            pass\n",
    "        \n",
    "    return df"
   ]
  },
  {
   "cell_type": "code",
   "execution_count": null,
   "id": "78c3eeec",
   "metadata": {},
   "outputs": [],
   "source": [
    "# Applying the function to remove spaces in the dataframe\n",
    "whitespace_remover(ge_data)"
   ]
  },
  {
   "cell_type": "markdown",
   "id": "c49f35b0",
   "metadata": {},
   "source": [
    "**Let's look at the unique values of the variables we think should be int64 to understand why they are reflected as objects by python:**\n",
    "\n",
    "Starting with `Up to 1 hr`:"
   ]
  },
  {
   "cell_type": "code",
   "execution_count": null,
   "id": "3eba0701",
   "metadata": {
    "scrolled": true
   },
   "outputs": [],
   "source": [
    "ge_data['Up to 1 hr'].unique()"
   ]
  },
  {
   "cell_type": "markdown",
   "id": "be245cfd",
   "metadata": {},
   "source": [
    "Looking at the unique values it's possible to see some '-' in the middle of the values and also a value of '1,678' that looks like a typo with an extra digit. **Let's take a closer look at those cases:**"
   ]
  },
  {
   "cell_type": "code",
   "execution_count": null,
   "id": "49b5ca8f",
   "metadata": {},
   "outputs": [],
   "source": [
    "# First lets check the rows with the '-' value for the column 'Up to 1 hr'\n",
    "ge_data.loc[ge_data['Up to 1 hr'] == '-']"
   ]
  },
  {
   "cell_type": "code",
   "execution_count": null,
   "id": "eacbe24d",
   "metadata": {
    "scrolled": true
   },
   "outputs": [],
   "source": [
    "# Now lets check the rows with the '1,678' value for the column 'Up to 1 hr'\n",
    "ge_data.loc[ge_data['Up to 1 hr'] == '1,678']"
   ]
  },
  {
   "cell_type": "markdown",
   "id": "76f1e3fd",
   "metadata": {},
   "source": [
    "It appears we were correct and the value '-' would be better represented by 0 and the value '1.678' actually appears to be a typo. **Lets replace that '-' with 0, that '1,678' with 167 and see if we can change the variable to int64:**"
   ]
  },
  {
   "cell_type": "code",
   "execution_count": null,
   "id": "dd022a64",
   "metadata": {},
   "outputs": [],
   "source": [
    "ge_data['Up to 1 hr'] = ge_data['Up to 1 hr'].replace({'-': 0, '1,678': 167})\n",
    "ge_data['Up to 1 hr'] = ge_data['Up to 1 hr'].astype('int64')"
   ]
  },
  {
   "cell_type": "code",
   "execution_count": null,
   "id": "33c0e84d",
   "metadata": {},
   "outputs": [],
   "source": [
    "# Let's check if the change into int64 is done\n",
    "ge_data.info()"
   ]
  },
  {
   "cell_type": "markdown",
   "id": "17f021b6",
   "metadata": {},
   "source": [
    "We did it! During the process it was possible to notice that this '-' value appears throughout the entire dataframe, **so we will apply the replacement with 0 throughout the dataframe:**"
   ]
  },
  {
   "cell_type": "code",
   "execution_count": null,
   "id": "7232e33b",
   "metadata": {},
   "outputs": [],
   "source": [
    "# Replaces '-' with 0 in the entire dataframe\n",
    "ge_data = ge_data.replace('-', 0)"
   ]
  },
  {
   "cell_type": "markdown",
   "id": "3a5b0860",
   "metadata": {},
   "source": [
    "**Now let's apply the same logic to convert the other variables to int:**"
   ]
  },
  {
   "cell_type": "code",
   "execution_count": null,
   "id": "a8b20421",
   "metadata": {
    "scrolled": true
   },
   "outputs": [],
   "source": [
    "ge_data['1 to 2 hrs'] = ge_data['1 to 2 hrs'].astype('int64')\n",
    "ge_data['2 to 3 hrs'] = ge_data['2 to 3 hrs'].astype('int64')\n",
    "ge_data['3 to 4 hrs'] = ge_data['3 to 4 hrs'].astype('int64')\n",
    "ge_data['4 to 5 hrs'] = ge_data['4 to 5 hrs'].astype('int64')\n",
    "ge_data['5 to 6 hrs'] = ge_data['5 to 6 hrs'].astype('int64')\n",
    "ge_data['6 to <24 hours'] = ge_data['6 to <24 hours'].astype('int64')\n",
    "ge_data['24 hours +'] = ge_data['24 hours +'].astype('int64')\n",
    "ge_data['Subscribers'] = ge_data['Subscribers'].astype('int64')\n",
    "ge_data['Total Exc Sub'] = ge_data['Total Exc Sub'].astype('int64')"
   ]
  },
  {
   "cell_type": "code",
   "execution_count": null,
   "id": "3045e2e7",
   "metadata": {
    "scrolled": true
   },
   "outputs": [],
   "source": [
    "# Let's check again if the changes into int64 are done\n",
    "ge_data.info()"
   ]
  },
  {
   "cell_type": "markdown",
   "id": "db809dc7",
   "metadata": {},
   "source": [
    "**Excellent!** We're almost there, now we need to check the `Comments` column, which despite being an object, apparently has 0 and other values. Let's take a look at the unique values:"
   ]
  },
  {
   "cell_type": "code",
   "execution_count": null,
   "id": "7e32c585",
   "metadata": {},
   "outputs": [],
   "source": [
    "# Check the unique values of the Comments variable\n",
    "ge_data['Comments'].unique()"
   ]
  },
  {
   "cell_type": "code",
   "execution_count": null,
   "id": "a6a85cf4",
   "metadata": {
    "scrolled": true
   },
   "outputs": [],
   "source": [
    "# Check the rows with '0' as the value for the Comments variable\n",
    "ge_data.loc[ge_data['Comments'] == '0']"
   ]
  },
  {
   "cell_type": "markdown",
   "id": "20ec3122",
   "metadata": {},
   "source": [
    "Based on this, it is much more interesting to **change the values from '0' to** `null` and thus have more consistency in the values:"
   ]
  },
  {
   "cell_type": "code",
   "execution_count": null,
   "id": "88923c3e",
   "metadata": {},
   "outputs": [],
   "source": [
    "# Replacing the value og '0' for null\n",
    "ge_data['Comments'] = ge_data['Comments'].replace('0', np.nan)\n",
    "\n",
    "# Checking the changes\n",
    "ge_data['Comments'].unique()"
   ]
  },
  {
   "cell_type": "markdown",
   "id": "4caf94c0",
   "metadata": {},
   "source": [
    "Now let's use the `describe()` method to see if we have anything else that can catch our attention with all the variables properly corrected."
   ]
  },
  {
   "cell_type": "code",
   "execution_count": null,
   "id": "1d171ce2",
   "metadata": {},
   "outputs": [],
   "source": [
    "ge_data.describe()"
   ]
  },
  {
   "cell_type": "markdown",
   "id": "29ffb6f5",
   "metadata": {},
   "source": [
    "**Weird!** It doesn't make sense to have a negative number of `Total Exc Sub`, so **lets first check that row:**"
   ]
  },
  {
   "cell_type": "code",
   "execution_count": null,
   "id": "8dfcb91a",
   "metadata": {},
   "outputs": [],
   "source": [
    "ge_data.loc[ge_data['Total Exc Sub'] == -1]"
   ]
  },
  {
   "cell_type": "markdown",
   "id": "36c3bb9e",
   "metadata": {},
   "source": [
    "It seems that the negative number is a consequence of subtracting stays from the number of subscribers, it is difficult to be sure where the error is. As it is something that will not affect the data analysis, I will change the value to 0. \n",
    "\n",
    "We could just use a `replace` method, but I will use `lambda` because it could be used to apply other iterations to the values of a column."
   ]
  },
  {
   "cell_type": "code",
   "execution_count": null,
   "id": "3170ba50",
   "metadata": {},
   "outputs": [],
   "source": [
    "# Using lambda to iterate over all values and replace negative values with 0\n",
    "ge_data['Total Exc Sub'] = ge_data['Total Exc Sub'].apply(lambda x: 0 if x < 0 else x)"
   ]
  },
  {
   "cell_type": "markdown",
   "id": "b771d3b5",
   "metadata": {},
   "source": [
    "## 2 - Data Exploration"
   ]
  },
  {
   "cell_type": "markdown",
   "id": "d77c7231",
   "metadata": {},
   "source": [
    "**We finally arrived** at the version of our dataframe after wrangling and tidyng. To start lets look at some summary statistics for all features in the dataset:"
   ]
  },
  {
   "cell_type": "code",
   "execution_count": null,
   "id": "04eea3a3",
   "metadata": {
    "scrolled": false
   },
   "outputs": [],
   "source": [
    "ge_data.describe()"
   ]
  },
  {
   "cell_type": "markdown",
   "id": "54e2195c",
   "metadata": {},
   "source": [
    "Analyzing the information it is possible to see that on average cars spend between 1 and 3 hours in the parking lot most frequently, with between 1 and 2 hours being the longest period on average."
   ]
  },
  {
   "cell_type": "markdown",
   "id": "be94e705",
   "metadata": {},
   "source": [
    "**From the data it is possible to see that there are 2 types of users: `Subscribers` and `Non-Subscribers` let's compare these 2 user profiles during the days of the week using a `boxplot` and see if we have any relationship between them:**"
   ]
  },
  {
   "cell_type": "code",
   "execution_count": null,
   "id": "7d7a00e4",
   "metadata": {
    "scrolled": false
   },
   "outputs": [],
   "source": [
    "sns.boxplot(data = ge_data, x = 'Day', y = 'Total Exc Sub')\n",
    "plt.show()"
   ]
  },
  {
   "cell_type": "code",
   "execution_count": null,
   "id": "4308bfad",
   "metadata": {
    "scrolled": false
   },
   "outputs": [],
   "source": [
    "sns.boxplot(data = ge_data, x = 'Day', y = 'Subscribers')\n",
    "plt.show()"
   ]
  },
  {
   "cell_type": "markdown",
   "id": "09ddb8ec",
   "metadata": {},
   "source": [
    "**Analyzing the graphs we can see patterns for the 2 groups:**\n",
    "- `Non-Subscribers`: These are users who use parking in a more random and non-sequential manner. We see a large increase in the presence of these users on the weekend, probably using parking for pleasure.\n",
    "- `Subscribers`: These are users who use the parking lot frequently, probably because they park their car to go to work. This hypothesis is reinforced by the significant decrease in the number of subscribers present at the weekend."
   ]
  },
  {
   "cell_type": "markdown",
   "id": "e1b39dbe",
   "metadata": {},
   "source": [
    "## FOR FUTURE IMPLEMENTATION"
   ]
  },
  {
   "cell_type": "code",
   "execution_count": null,
   "id": "811ea90a",
   "metadata": {
    "scrolled": true
   },
   "outputs": [],
   "source": [
    "def analyse_year(data, year):\n",
    "    ..."
   ]
  },
  {
   "cell_type": "code",
   "execution_count": null,
   "id": "afd0fd85",
   "metadata": {},
   "outputs": [],
   "source": [
    "def compare_between_years(data, year_1, year_2):\n",
    "    ..."
   ]
  },
  {
   "cell_type": "markdown",
   "id": "97a6886b",
   "metadata": {},
   "source": [
    "For a deeper analysis, we will **divide the dataframe by years** and use only the last 5, namely: `2018, 2019, 2020, 2021 and 2022`:"
   ]
  },
  {
   "cell_type": "code",
   "execution_count": null,
   "id": "3eccb0c0",
   "metadata": {},
   "outputs": [],
   "source": [
    "ge2018_data = ge_data.loc[(ge_data['Date'] >= '2018-01-01') & (ge_data['Date'] <= '2018-12-31')]\n",
    "ge2019_data = ge_data.loc[(ge_data['Date'] >= '2019-01-01') & (ge_data['Date'] <= '2019-12-31')]\n",
    "ge2020_data = ge_data.loc[(ge_data['Date'] >= '2020-01-01') & (ge_data['Date'] <= '2020-12-31')]\n",
    "ge2021_data = ge_data.loc[(ge_data['Date'] >= '2021-01-01') & (ge_data['Date'] <= '2021-12-31')]\n",
    "ge2022_data = ge_data.loc[(ge_data['Date'] >= '2022-01-01') & (ge_data['Date'] <= '2022-12-31')]"
   ]
  },
  {
   "cell_type": "code",
   "execution_count": null,
   "id": "bbcd1fcf",
   "metadata": {},
   "outputs": [],
   "source": []
  }
 ],
 "metadata": {
  "kernelspec": {
   "display_name": "Python 3 (ipykernel)",
   "language": "python",
   "name": "python3"
  },
  "language_info": {
   "codemirror_mode": {
    "name": "ipython",
    "version": 3
   },
   "file_extension": ".py",
   "mimetype": "text/x-python",
   "name": "python",
   "nbconvert_exporter": "python",
   "pygments_lexer": "ipython3",
   "version": "3.11.7"
  }
 },
 "nbformat": 4,
 "nbformat_minor": 5
}
